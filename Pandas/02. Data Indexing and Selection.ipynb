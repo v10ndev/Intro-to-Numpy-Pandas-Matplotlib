{
 "cells": [
  {
   "cell_type": "markdown",
   "id": "a97f15b5",
   "metadata": {},
   "source": [
    "# Data Selection in Series"
   ]
  },
  {
   "cell_type": "code",
   "execution_count": 1,
   "id": "9761684f",
   "metadata": {},
   "outputs": [],
   "source": [
    "import numpy as np\n",
    "import pandas as pd"
   ]
  },
  {
   "cell_type": "code",
   "execution_count": 2,
   "id": "b6ff7ad5",
   "metadata": {},
   "outputs": [
    {
     "data": {
      "text/plain": [
       "a    0.25\n",
       "b    0.50\n",
       "c    0.75\n",
       "d    1.00\n",
       "dtype: float64"
      ]
     },
     "execution_count": 2,
     "metadata": {},
     "output_type": "execute_result"
    }
   ],
   "source": [
    "data = pd.Series([0.25, 0.5, 0.75, 1],\n",
    "                index=['a','b','c','d'])\n",
    "data"
   ]
  },
  {
   "cell_type": "code",
   "execution_count": 3,
   "id": "66835f39",
   "metadata": {},
   "outputs": [
    {
     "data": {
      "text/plain": [
       "0.5"
      ]
     },
     "execution_count": 3,
     "metadata": {},
     "output_type": "execute_result"
    }
   ],
   "source": [
    "data['b']"
   ]
  },
  {
   "cell_type": "code",
   "execution_count": 4,
   "id": "22805463",
   "metadata": {},
   "outputs": [
    {
     "data": {
      "text/plain": [
       "True"
      ]
     },
     "execution_count": 4,
     "metadata": {},
     "output_type": "execute_result"
    }
   ],
   "source": [
    "'a' in data"
   ]
  },
  {
   "cell_type": "code",
   "execution_count": 5,
   "id": "af6b6ac6",
   "metadata": {},
   "outputs": [
    {
     "data": {
      "text/plain": [
       "Index(['a', 'b', 'c', 'd'], dtype='object')"
      ]
     },
     "execution_count": 5,
     "metadata": {},
     "output_type": "execute_result"
    }
   ],
   "source": [
    "data.keys()"
   ]
  },
  {
   "cell_type": "code",
   "execution_count": 6,
   "id": "94c07bb2",
   "metadata": {},
   "outputs": [
    {
     "data": {
      "text/plain": [
       "[('a', 0.25), ('b', 0.5), ('c', 0.75), ('d', 1.0)]"
      ]
     },
     "execution_count": 6,
     "metadata": {},
     "output_type": "execute_result"
    }
   ],
   "source": [
    "list(data.items())"
   ]
  },
  {
   "cell_type": "code",
   "execution_count": 7,
   "id": "72910eff",
   "metadata": {},
   "outputs": [
    {
     "data": {
      "text/plain": [
       "a    0.25\n",
       "b    0.50\n",
       "c    0.75\n",
       "d    1.00\n",
       "e    1.25\n",
       "dtype: float64"
      ]
     },
     "execution_count": 7,
     "metadata": {},
     "output_type": "execute_result"
    }
   ],
   "source": [
    "data['e'] = 1.25\n",
    "data"
   ]
  },
  {
   "cell_type": "code",
   "execution_count": 9,
   "id": "a248a2d2",
   "metadata": {},
   "outputs": [
    {
     "data": {
      "text/plain": [
       "a    0.25\n",
       "b    0.50\n",
       "c    0.75\n",
       "dtype: float64"
      ]
     },
     "execution_count": 9,
     "metadata": {},
     "output_type": "execute_result"
    }
   ],
   "source": [
    "data['a':'c']"
   ]
  },
  {
   "cell_type": "code",
   "execution_count": 10,
   "id": "f4900ae9",
   "metadata": {},
   "outputs": [
    {
     "data": {
      "text/plain": [
       "a    0.25\n",
       "b    0.50\n",
       "dtype: float64"
      ]
     },
     "execution_count": 10,
     "metadata": {},
     "output_type": "execute_result"
    }
   ],
   "source": [
    "data[0:2]"
   ]
  },
  {
   "cell_type": "code",
   "execution_count": 11,
   "id": "b1ad4d5e",
   "metadata": {},
   "outputs": [
    {
     "data": {
      "text/plain": [
       "b    0.50\n",
       "c    0.75\n",
       "dtype: float64"
      ]
     },
     "execution_count": 11,
     "metadata": {},
     "output_type": "execute_result"
    }
   ],
   "source": [
    "data[(data>0.3) & (data<0.8)]"
   ]
  },
  {
   "cell_type": "code",
   "execution_count": 12,
   "id": "00dc4c50",
   "metadata": {},
   "outputs": [
    {
     "data": {
      "text/plain": [
       "a    0.25\n",
       "c    0.75\n",
       "dtype: float64"
      ]
     },
     "execution_count": 12,
     "metadata": {},
     "output_type": "execute_result"
    }
   ],
   "source": [
    "data[['a','c']]"
   ]
  },
  {
   "cell_type": "markdown",
   "id": "5c2db15e",
   "metadata": {},
   "source": [
    "### Indexers: loc, iloc and ix"
   ]
  },
  {
   "cell_type": "code",
   "execution_count": 13,
   "id": "e2f58672",
   "metadata": {},
   "outputs": [
    {
     "data": {
      "text/plain": [
       "1    a\n",
       "2    b\n",
       "3    c\n",
       "dtype: object"
      ]
     },
     "execution_count": 13,
     "metadata": {},
     "output_type": "execute_result"
    }
   ],
   "source": [
    "data = pd.Series(['a','b','c'],\n",
    "                index=[1,2,3])\n",
    "data"
   ]
  },
  {
   "cell_type": "code",
   "execution_count": 14,
   "id": "9a446a92",
   "metadata": {},
   "outputs": [
    {
     "data": {
      "text/plain": [
       "'a'"
      ]
     },
     "execution_count": 14,
     "metadata": {},
     "output_type": "execute_result"
    }
   ],
   "source": [
    "data[1]"
   ]
  },
  {
   "cell_type": "code",
   "execution_count": 15,
   "id": "bf8bcc09",
   "metadata": {},
   "outputs": [
    {
     "data": {
      "text/plain": [
       "2    b\n",
       "3    c\n",
       "dtype: object"
      ]
     },
     "execution_count": 15,
     "metadata": {},
     "output_type": "execute_result"
    }
   ],
   "source": [
    "data[1:3]"
   ]
  },
  {
   "cell_type": "code",
   "execution_count": 16,
   "id": "a7e27941",
   "metadata": {},
   "outputs": [
    {
     "data": {
      "text/plain": [
       "'a'"
      ]
     },
     "execution_count": 16,
     "metadata": {},
     "output_type": "execute_result"
    }
   ],
   "source": [
    "data.loc[1]"
   ]
  },
  {
   "cell_type": "code",
   "execution_count": 17,
   "id": "c5024a96",
   "metadata": {},
   "outputs": [
    {
     "data": {
      "text/plain": [
       "1    a\n",
       "2    b\n",
       "3    c\n",
       "dtype: object"
      ]
     },
     "execution_count": 17,
     "metadata": {},
     "output_type": "execute_result"
    }
   ],
   "source": [
    "data.loc[1:3]"
   ]
  },
  {
   "cell_type": "code",
   "execution_count": 18,
   "id": "454eac60",
   "metadata": {},
   "outputs": [
    {
     "data": {
      "text/plain": [
       "'b'"
      ]
     },
     "execution_count": 18,
     "metadata": {},
     "output_type": "execute_result"
    }
   ],
   "source": [
    "data.iloc[1]"
   ]
  },
  {
   "cell_type": "code",
   "execution_count": 19,
   "id": "dd3df924",
   "metadata": {},
   "outputs": [
    {
     "data": {
      "text/plain": [
       "2    b\n",
       "3    c\n",
       "dtype: object"
      ]
     },
     "execution_count": 19,
     "metadata": {},
     "output_type": "execute_result"
    }
   ],
   "source": [
    "data.iloc[1:3]"
   ]
  },
  {
   "cell_type": "markdown",
   "id": "32a4bddf",
   "metadata": {},
   "source": [
    "# Data Selection in DataFrame"
   ]
  },
  {
   "cell_type": "code",
   "execution_count": 21,
   "id": "f7bb6501",
   "metadata": {},
   "outputs": [],
   "source": [
    "pop = pd.Series({'Ha Noi':8053663,\n",
    "                   'Thanh Hoa': 3640128,\n",
    "                   'Nghe An': 3327791,\n",
    "                   'Da Nang': 1134310,\n",
    "                   'Hue': 1128620})\n",
    "\n",
    "area = pd.Series({'Ha Noi': 3358.9,\n",
    "             'Thanh Hoa': 11130.2,\n",
    "             'Nghe An': 16493.7,\n",
    "             'Da Nang': 1284.9,\n",
    "             'Hue': 5033.2})"
   ]
  },
  {
   "cell_type": "code",
   "execution_count": 22,
   "id": "99bd4755",
   "metadata": {},
   "outputs": [],
   "source": [
    "data = pd.DataFrame({'area':area, 'pop':pop})"
   ]
  },
  {
   "cell_type": "code",
   "execution_count": 23,
   "id": "0cefc34d",
   "metadata": {},
   "outputs": [
    {
     "data": {
      "text/html": [
       "<div>\n",
       "<style scoped>\n",
       "    .dataframe tbody tr th:only-of-type {\n",
       "        vertical-align: middle;\n",
       "    }\n",
       "\n",
       "    .dataframe tbody tr th {\n",
       "        vertical-align: top;\n",
       "    }\n",
       "\n",
       "    .dataframe thead th {\n",
       "        text-align: right;\n",
       "    }\n",
       "</style>\n",
       "<table border=\"1\" class=\"dataframe\">\n",
       "  <thead>\n",
       "    <tr style=\"text-align: right;\">\n",
       "      <th></th>\n",
       "      <th>area</th>\n",
       "      <th>pop</th>\n",
       "    </tr>\n",
       "  </thead>\n",
       "  <tbody>\n",
       "    <tr>\n",
       "      <th>Ha Noi</th>\n",
       "      <td>3358.9</td>\n",
       "      <td>8053663</td>\n",
       "    </tr>\n",
       "    <tr>\n",
       "      <th>Thanh Hoa</th>\n",
       "      <td>11130.2</td>\n",
       "      <td>3640128</td>\n",
       "    </tr>\n",
       "    <tr>\n",
       "      <th>Nghe An</th>\n",
       "      <td>16493.7</td>\n",
       "      <td>3327791</td>\n",
       "    </tr>\n",
       "    <tr>\n",
       "      <th>Da Nang</th>\n",
       "      <td>1284.9</td>\n",
       "      <td>1134310</td>\n",
       "    </tr>\n",
       "    <tr>\n",
       "      <th>Hue</th>\n",
       "      <td>5033.2</td>\n",
       "      <td>1128620</td>\n",
       "    </tr>\n",
       "  </tbody>\n",
       "</table>\n",
       "</div>"
      ],
      "text/plain": [
       "              area      pop\n",
       "Ha Noi      3358.9  8053663\n",
       "Thanh Hoa  11130.2  3640128\n",
       "Nghe An    16493.7  3327791\n",
       "Da Nang     1284.9  1134310\n",
       "Hue         5033.2  1128620"
      ]
     },
     "execution_count": 23,
     "metadata": {},
     "output_type": "execute_result"
    }
   ],
   "source": [
    "data"
   ]
  },
  {
   "cell_type": "code",
   "execution_count": 24,
   "id": "5cdadfcc",
   "metadata": {},
   "outputs": [
    {
     "data": {
      "text/plain": [
       "Ha Noi        3358.9\n",
       "Thanh Hoa    11130.2\n",
       "Nghe An      16493.7\n",
       "Da Nang       1284.9\n",
       "Hue           5033.2\n",
       "Name: area, dtype: float64"
      ]
     },
     "execution_count": 24,
     "metadata": {},
     "output_type": "execute_result"
    }
   ],
   "source": [
    "data['area']"
   ]
  },
  {
   "cell_type": "code",
   "execution_count": 25,
   "id": "3558bcb7",
   "metadata": {},
   "outputs": [
    {
     "data": {
      "text/plain": [
       "Ha Noi        3358.9\n",
       "Thanh Hoa    11130.2\n",
       "Nghe An      16493.7\n",
       "Da Nang       1284.9\n",
       "Hue           5033.2\n",
       "Name: area, dtype: float64"
      ]
     },
     "execution_count": 25,
     "metadata": {},
     "output_type": "execute_result"
    }
   ],
   "source": [
    "data.area"
   ]
  },
  {
   "cell_type": "code",
   "execution_count": 26,
   "id": "b382ec30",
   "metadata": {},
   "outputs": [
    {
     "data": {
      "text/plain": [
       "True"
      ]
     },
     "execution_count": 26,
     "metadata": {},
     "output_type": "execute_result"
    }
   ],
   "source": [
    "data.area is data['area']"
   ]
  },
  {
   "cell_type": "code",
   "execution_count": 27,
   "id": "e0bc3c86",
   "metadata": {},
   "outputs": [
    {
     "data": {
      "text/plain": [
       "False"
      ]
     },
     "execution_count": 27,
     "metadata": {},
     "output_type": "execute_result"
    }
   ],
   "source": [
    "data.pop is data['pop']"
   ]
  },
  {
   "cell_type": "code",
   "execution_count": 28,
   "id": "662ce809",
   "metadata": {},
   "outputs": [
    {
     "data": {
      "text/html": [
       "<div>\n",
       "<style scoped>\n",
       "    .dataframe tbody tr th:only-of-type {\n",
       "        vertical-align: middle;\n",
       "    }\n",
       "\n",
       "    .dataframe tbody tr th {\n",
       "        vertical-align: top;\n",
       "    }\n",
       "\n",
       "    .dataframe thead th {\n",
       "        text-align: right;\n",
       "    }\n",
       "</style>\n",
       "<table border=\"1\" class=\"dataframe\">\n",
       "  <thead>\n",
       "    <tr style=\"text-align: right;\">\n",
       "      <th></th>\n",
       "      <th>area</th>\n",
       "      <th>pop</th>\n",
       "      <th>density</th>\n",
       "    </tr>\n",
       "  </thead>\n",
       "  <tbody>\n",
       "    <tr>\n",
       "      <th>Ha Noi</th>\n",
       "      <td>3358.9</td>\n",
       "      <td>8053663</td>\n",
       "      <td>2397.708476</td>\n",
       "    </tr>\n",
       "    <tr>\n",
       "      <th>Thanh Hoa</th>\n",
       "      <td>11130.2</td>\n",
       "      <td>3640128</td>\n",
       "      <td>327.049649</td>\n",
       "    </tr>\n",
       "    <tr>\n",
       "      <th>Nghe An</th>\n",
       "      <td>16493.7</td>\n",
       "      <td>3327791</td>\n",
       "      <td>201.761339</td>\n",
       "    </tr>\n",
       "    <tr>\n",
       "      <th>Da Nang</th>\n",
       "      <td>1284.9</td>\n",
       "      <td>1134310</td>\n",
       "      <td>882.800218</td>\n",
       "    </tr>\n",
       "    <tr>\n",
       "      <th>Hue</th>\n",
       "      <td>5033.2</td>\n",
       "      <td>1128620</td>\n",
       "      <td>224.235079</td>\n",
       "    </tr>\n",
       "  </tbody>\n",
       "</table>\n",
       "</div>"
      ],
      "text/plain": [
       "              area      pop      density\n",
       "Ha Noi      3358.9  8053663  2397.708476\n",
       "Thanh Hoa  11130.2  3640128   327.049649\n",
       "Nghe An    16493.7  3327791   201.761339\n",
       "Da Nang     1284.9  1134310   882.800218\n",
       "Hue         5033.2  1128620   224.235079"
      ]
     },
     "execution_count": 28,
     "metadata": {},
     "output_type": "execute_result"
    }
   ],
   "source": [
    "data['density'] = data['pop'] / data['area']\n",
    "data"
   ]
  },
  {
   "cell_type": "code",
   "execution_count": 29,
   "id": "c81008d3",
   "metadata": {},
   "outputs": [
    {
     "data": {
      "text/plain": [
       "array([[3.35890000e+03, 8.05366300e+06, 2.39770848e+03],\n",
       "       [1.11302000e+04, 3.64012800e+06, 3.27049649e+02],\n",
       "       [1.64937000e+04, 3.32779100e+06, 2.01761339e+02],\n",
       "       [1.28490000e+03, 1.13431000e+06, 8.82800218e+02],\n",
       "       [5.03320000e+03, 1.12862000e+06, 2.24235079e+02]])"
      ]
     },
     "execution_count": 29,
     "metadata": {},
     "output_type": "execute_result"
    }
   ],
   "source": [
    "data.values"
   ]
  },
  {
   "cell_type": "code",
   "execution_count": 30,
   "id": "e3978001",
   "metadata": {},
   "outputs": [
    {
     "data": {
      "text/html": [
       "<div>\n",
       "<style scoped>\n",
       "    .dataframe tbody tr th:only-of-type {\n",
       "        vertical-align: middle;\n",
       "    }\n",
       "\n",
       "    .dataframe tbody tr th {\n",
       "        vertical-align: top;\n",
       "    }\n",
       "\n",
       "    .dataframe thead th {\n",
       "        text-align: right;\n",
       "    }\n",
       "</style>\n",
       "<table border=\"1\" class=\"dataframe\">\n",
       "  <thead>\n",
       "    <tr style=\"text-align: right;\">\n",
       "      <th></th>\n",
       "      <th>Ha Noi</th>\n",
       "      <th>Thanh Hoa</th>\n",
       "      <th>Nghe An</th>\n",
       "      <th>Da Nang</th>\n",
       "      <th>Hue</th>\n",
       "    </tr>\n",
       "  </thead>\n",
       "  <tbody>\n",
       "    <tr>\n",
       "      <th>area</th>\n",
       "      <td>3.358900e+03</td>\n",
       "      <td>1.113020e+04</td>\n",
       "      <td>1.649370e+04</td>\n",
       "      <td>1.284900e+03</td>\n",
       "      <td>5.033200e+03</td>\n",
       "    </tr>\n",
       "    <tr>\n",
       "      <th>pop</th>\n",
       "      <td>8.053663e+06</td>\n",
       "      <td>3.640128e+06</td>\n",
       "      <td>3.327791e+06</td>\n",
       "      <td>1.134310e+06</td>\n",
       "      <td>1.128620e+06</td>\n",
       "    </tr>\n",
       "    <tr>\n",
       "      <th>density</th>\n",
       "      <td>2.397708e+03</td>\n",
       "      <td>3.270496e+02</td>\n",
       "      <td>2.017613e+02</td>\n",
       "      <td>8.828002e+02</td>\n",
       "      <td>2.242351e+02</td>\n",
       "    </tr>\n",
       "  </tbody>\n",
       "</table>\n",
       "</div>"
      ],
      "text/plain": [
       "               Ha Noi     Thanh Hoa       Nghe An       Da Nang           Hue\n",
       "area     3.358900e+03  1.113020e+04  1.649370e+04  1.284900e+03  5.033200e+03\n",
       "pop      8.053663e+06  3.640128e+06  3.327791e+06  1.134310e+06  1.128620e+06\n",
       "density  2.397708e+03  3.270496e+02  2.017613e+02  8.828002e+02  2.242351e+02"
      ]
     },
     "execution_count": 30,
     "metadata": {},
     "output_type": "execute_result"
    }
   ],
   "source": [
    "data.T"
   ]
  },
  {
   "cell_type": "code",
   "execution_count": 31,
   "id": "7df40fd7",
   "metadata": {},
   "outputs": [
    {
     "data": {
      "text/plain": [
       "array([3.35890000e+03, 8.05366300e+06, 2.39770848e+03])"
      ]
     },
     "execution_count": 31,
     "metadata": {},
     "output_type": "execute_result"
    }
   ],
   "source": [
    "data.values[0]"
   ]
  },
  {
   "cell_type": "code",
   "execution_count": 32,
   "id": "ec876b48",
   "metadata": {},
   "outputs": [
    {
     "data": {
      "text/html": [
       "<div>\n",
       "<style scoped>\n",
       "    .dataframe tbody tr th:only-of-type {\n",
       "        vertical-align: middle;\n",
       "    }\n",
       "\n",
       "    .dataframe tbody tr th {\n",
       "        vertical-align: top;\n",
       "    }\n",
       "\n",
       "    .dataframe thead th {\n",
       "        text-align: right;\n",
       "    }\n",
       "</style>\n",
       "<table border=\"1\" class=\"dataframe\">\n",
       "  <thead>\n",
       "    <tr style=\"text-align: right;\">\n",
       "      <th></th>\n",
       "      <th>area</th>\n",
       "      <th>pop</th>\n",
       "    </tr>\n",
       "  </thead>\n",
       "  <tbody>\n",
       "    <tr>\n",
       "      <th>Ha Noi</th>\n",
       "      <td>3358.9</td>\n",
       "      <td>8053663</td>\n",
       "    </tr>\n",
       "    <tr>\n",
       "      <th>Thanh Hoa</th>\n",
       "      <td>11130.2</td>\n",
       "      <td>3640128</td>\n",
       "    </tr>\n",
       "    <tr>\n",
       "      <th>Nghe An</th>\n",
       "      <td>16493.7</td>\n",
       "      <td>3327791</td>\n",
       "    </tr>\n",
       "  </tbody>\n",
       "</table>\n",
       "</div>"
      ],
      "text/plain": [
       "              area      pop\n",
       "Ha Noi      3358.9  8053663\n",
       "Thanh Hoa  11130.2  3640128\n",
       "Nghe An    16493.7  3327791"
      ]
     },
     "execution_count": 32,
     "metadata": {},
     "output_type": "execute_result"
    }
   ],
   "source": [
    "data.iloc[:3,:2]"
   ]
  },
  {
   "cell_type": "code",
   "execution_count": 34,
   "id": "61df5dfd",
   "metadata": {},
   "outputs": [
    {
     "data": {
      "text/html": [
       "<div>\n",
       "<style scoped>\n",
       "    .dataframe tbody tr th:only-of-type {\n",
       "        vertical-align: middle;\n",
       "    }\n",
       "\n",
       "    .dataframe tbody tr th {\n",
       "        vertical-align: top;\n",
       "    }\n",
       "\n",
       "    .dataframe thead th {\n",
       "        text-align: right;\n",
       "    }\n",
       "</style>\n",
       "<table border=\"1\" class=\"dataframe\">\n",
       "  <thead>\n",
       "    <tr style=\"text-align: right;\">\n",
       "      <th></th>\n",
       "      <th>area</th>\n",
       "      <th>pop</th>\n",
       "    </tr>\n",
       "  </thead>\n",
       "  <tbody>\n",
       "    <tr>\n",
       "      <th>Ha Noi</th>\n",
       "      <td>3358.9</td>\n",
       "      <td>8053663</td>\n",
       "    </tr>\n",
       "    <tr>\n",
       "      <th>Thanh Hoa</th>\n",
       "      <td>11130.2</td>\n",
       "      <td>3640128</td>\n",
       "    </tr>\n",
       "    <tr>\n",
       "      <th>Nghe An</th>\n",
       "      <td>16493.7</td>\n",
       "      <td>3327791</td>\n",
       "    </tr>\n",
       "    <tr>\n",
       "      <th>Da Nang</th>\n",
       "      <td>1284.9</td>\n",
       "      <td>1134310</td>\n",
       "    </tr>\n",
       "  </tbody>\n",
       "</table>\n",
       "</div>"
      ],
      "text/plain": [
       "              area      pop\n",
       "Ha Noi      3358.9  8053663\n",
       "Thanh Hoa  11130.2  3640128\n",
       "Nghe An    16493.7  3327791\n",
       "Da Nang     1284.9  1134310"
      ]
     },
     "execution_count": 34,
     "metadata": {},
     "output_type": "execute_result"
    }
   ],
   "source": [
    "data.loc[:'Da Nang', :'pop']"
   ]
  },
  {
   "cell_type": "code",
   "execution_count": 37,
   "id": "5df8232a",
   "metadata": {},
   "outputs": [
    {
     "data": {
      "text/html": [
       "<div>\n",
       "<style scoped>\n",
       "    .dataframe tbody tr th:only-of-type {\n",
       "        vertical-align: middle;\n",
       "    }\n",
       "\n",
       "    .dataframe tbody tr th {\n",
       "        vertical-align: top;\n",
       "    }\n",
       "\n",
       "    .dataframe thead th {\n",
       "        text-align: right;\n",
       "    }\n",
       "</style>\n",
       "<table border=\"1\" class=\"dataframe\">\n",
       "  <thead>\n",
       "    <tr style=\"text-align: right;\">\n",
       "      <th></th>\n",
       "      <th>pop</th>\n",
       "      <th>density</th>\n",
       "    </tr>\n",
       "  </thead>\n",
       "  <tbody>\n",
       "    <tr>\n",
       "      <th>Ha Noi</th>\n",
       "      <td>8053663</td>\n",
       "      <td>2397.708476</td>\n",
       "    </tr>\n",
       "    <tr>\n",
       "      <th>Da Nang</th>\n",
       "      <td>1134310</td>\n",
       "      <td>882.800218</td>\n",
       "    </tr>\n",
       "  </tbody>\n",
       "</table>\n",
       "</div>"
      ],
      "text/plain": [
       "             pop      density\n",
       "Ha Noi   8053663  2397.708476\n",
       "Da Nang  1134310   882.800218"
      ]
     },
     "execution_count": 37,
     "metadata": {},
     "output_type": "execute_result"
    }
   ],
   "source": [
    "data.loc[data.density > 500, ['pop','density']]"
   ]
  },
  {
   "cell_type": "code",
   "execution_count": 38,
   "id": "cc1215d8",
   "metadata": {},
   "outputs": [],
   "source": [
    "data.iloc[0,2] = 99"
   ]
  },
  {
   "cell_type": "code",
   "execution_count": 39,
   "id": "35620243",
   "metadata": {},
   "outputs": [
    {
     "data": {
      "text/html": [
       "<div>\n",
       "<style scoped>\n",
       "    .dataframe tbody tr th:only-of-type {\n",
       "        vertical-align: middle;\n",
       "    }\n",
       "\n",
       "    .dataframe tbody tr th {\n",
       "        vertical-align: top;\n",
       "    }\n",
       "\n",
       "    .dataframe thead th {\n",
       "        text-align: right;\n",
       "    }\n",
       "</style>\n",
       "<table border=\"1\" class=\"dataframe\">\n",
       "  <thead>\n",
       "    <tr style=\"text-align: right;\">\n",
       "      <th></th>\n",
       "      <th>area</th>\n",
       "      <th>pop</th>\n",
       "      <th>density</th>\n",
       "    </tr>\n",
       "  </thead>\n",
       "  <tbody>\n",
       "    <tr>\n",
       "      <th>Ha Noi</th>\n",
       "      <td>3358.9</td>\n",
       "      <td>8053663</td>\n",
       "      <td>99.000000</td>\n",
       "    </tr>\n",
       "    <tr>\n",
       "      <th>Thanh Hoa</th>\n",
       "      <td>11130.2</td>\n",
       "      <td>3640128</td>\n",
       "      <td>327.049649</td>\n",
       "    </tr>\n",
       "    <tr>\n",
       "      <th>Nghe An</th>\n",
       "      <td>16493.7</td>\n",
       "      <td>3327791</td>\n",
       "      <td>201.761339</td>\n",
       "    </tr>\n",
       "    <tr>\n",
       "      <th>Da Nang</th>\n",
       "      <td>1284.9</td>\n",
       "      <td>1134310</td>\n",
       "      <td>882.800218</td>\n",
       "    </tr>\n",
       "    <tr>\n",
       "      <th>Hue</th>\n",
       "      <td>5033.2</td>\n",
       "      <td>1128620</td>\n",
       "      <td>224.235079</td>\n",
       "    </tr>\n",
       "  </tbody>\n",
       "</table>\n",
       "</div>"
      ],
      "text/plain": [
       "              area      pop     density\n",
       "Ha Noi      3358.9  8053663   99.000000\n",
       "Thanh Hoa  11130.2  3640128  327.049649\n",
       "Nghe An    16493.7  3327791  201.761339\n",
       "Da Nang     1284.9  1134310  882.800218\n",
       "Hue         5033.2  1128620  224.235079"
      ]
     },
     "execution_count": 39,
     "metadata": {},
     "output_type": "execute_result"
    }
   ],
   "source": [
    "data"
   ]
  }
 ],
 "metadata": {
  "kernelspec": {
   "display_name": "Python 3 (ipykernel)",
   "language": "python",
   "name": "python3"
  },
  "language_info": {
   "codemirror_mode": {
    "name": "ipython",
    "version": 3
   },
   "file_extension": ".py",
   "mimetype": "text/x-python",
   "name": "python",
   "nbconvert_exporter": "python",
   "pygments_lexer": "ipython3",
   "version": "3.9.7"
  }
 },
 "nbformat": 4,
 "nbformat_minor": 5
}
