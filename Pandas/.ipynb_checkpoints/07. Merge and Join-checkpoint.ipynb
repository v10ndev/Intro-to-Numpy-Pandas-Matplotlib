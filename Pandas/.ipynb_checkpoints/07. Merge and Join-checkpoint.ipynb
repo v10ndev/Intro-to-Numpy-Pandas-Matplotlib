{
 "cells": [
  {
   "cell_type": "markdown",
   "id": "a73da6d8",
   "metadata": {},
   "source": [
    "# Categories of Joins"
   ]
  },
  {
   "cell_type": "code",
   "execution_count": 1,
   "id": "60ad5d68",
   "metadata": {},
   "outputs": [],
   "source": [
    "import numpy as np\n",
    "import pandas as pd"
   ]
  },
  {
   "cell_type": "code",
   "execution_count": 2,
   "id": "4eeecc2c",
   "metadata": {},
   "outputs": [
    {
     "name": "stdout",
     "output_type": "stream",
     "text": [
      "  employee        group\n",
      "0      Duc   Accounting\n",
      "1      Mai  Engineering\n",
      "2      Lan  Engineering\n",
      "3    Cuong           HR\n",
      "  employee  hire_date\n",
      "0      Mai       2004\n",
      "1      Lan       2008\n",
      "2      Duc       2012\n",
      "3    Cuong       2013\n"
     ]
    }
   ],
   "source": [
    "df1 = pd.DataFrame({'employee': ['Duc','Mai','Lan','Cuong'],\n",
    "                    'group': ['Accounting','Engineering','Engineering','HR']})\n",
    "\n",
    "df2 = pd.DataFrame({'employee': ['Mai','Lan','Duc','Cuong'],\n",
    "                    'hire_date': [2004, 2008, 2012, 2013]})\n",
    "\n",
    "print(df1); print(df2)"
   ]
  },
  {
   "cell_type": "code",
   "execution_count": 3,
   "id": "7f197d5d",
   "metadata": {},
   "outputs": [],
   "source": [
    "df3 = pd.merge(df1, df2)"
   ]
  },
  {
   "cell_type": "code",
   "execution_count": 4,
   "id": "99a08cd4",
   "metadata": {},
   "outputs": [
    {
     "data": {
      "text/html": [
       "<div>\n",
       "<style scoped>\n",
       "    .dataframe tbody tr th:only-of-type {\n",
       "        vertical-align: middle;\n",
       "    }\n",
       "\n",
       "    .dataframe tbody tr th {\n",
       "        vertical-align: top;\n",
       "    }\n",
       "\n",
       "    .dataframe thead th {\n",
       "        text-align: right;\n",
       "    }\n",
       "</style>\n",
       "<table border=\"1\" class=\"dataframe\">\n",
       "  <thead>\n",
       "    <tr style=\"text-align: right;\">\n",
       "      <th></th>\n",
       "      <th>employee</th>\n",
       "      <th>group</th>\n",
       "      <th>hire_date</th>\n",
       "    </tr>\n",
       "  </thead>\n",
       "  <tbody>\n",
       "    <tr>\n",
       "      <th>0</th>\n",
       "      <td>Duc</td>\n",
       "      <td>Accounting</td>\n",
       "      <td>2012</td>\n",
       "    </tr>\n",
       "    <tr>\n",
       "      <th>1</th>\n",
       "      <td>Mai</td>\n",
       "      <td>Engineering</td>\n",
       "      <td>2004</td>\n",
       "    </tr>\n",
       "    <tr>\n",
       "      <th>2</th>\n",
       "      <td>Lan</td>\n",
       "      <td>Engineering</td>\n",
       "      <td>2008</td>\n",
       "    </tr>\n",
       "    <tr>\n",
       "      <th>3</th>\n",
       "      <td>Cuong</td>\n",
       "      <td>HR</td>\n",
       "      <td>2013</td>\n",
       "    </tr>\n",
       "  </tbody>\n",
       "</table>\n",
       "</div>"
      ],
      "text/plain": [
       "  employee        group  hire_date\n",
       "0      Duc   Accounting       2012\n",
       "1      Mai  Engineering       2004\n",
       "2      Lan  Engineering       2008\n",
       "3    Cuong           HR       2013"
      ]
     },
     "execution_count": 4,
     "metadata": {},
     "output_type": "execute_result"
    }
   ],
   "source": [
    "df3"
   ]
  },
  {
   "cell_type": "code",
   "execution_count": 7,
   "id": "169a995a",
   "metadata": {},
   "outputs": [
    {
     "name": "stdout",
     "output_type": "stream",
     "text": [
      "  employee        group  hire_date\n",
      "0      Duc   Accounting       2012\n",
      "1      Mai  Engineering       2004\n",
      "2      Lan  Engineering       2008\n",
      "3    Cuong           HR       2013\n",
      "         group supervisor\n",
      "0   Accounting       Dung\n",
      "1  Engineering        Huy\n",
      "2           HR       Minh\n",
      "  employee        group  hire_date supervisor\n",
      "0      Duc   Accounting       2012       Dung\n",
      "1      Mai  Engineering       2004        Huy\n",
      "2      Lan  Engineering       2008        Huy\n",
      "3    Cuong           HR       2013       Minh\n"
     ]
    }
   ],
   "source": [
    "df4 = pd.DataFrame({'group': ['Accounting','Engineering','HR'],\n",
    "                    'supervisor': ['Dung','Huy','Minh']})\n",
    "print(df3); print(df4); print(pd.merge(df3,df4))"
   ]
  },
  {
   "cell_type": "code",
   "execution_count": 9,
   "id": "1bd0fef0",
   "metadata": {},
   "outputs": [
    {
     "name": "stdout",
     "output_type": "stream",
     "text": [
      "  employee        group\n",
      "0      Duc   Accounting\n",
      "1      Mai  Engineering\n",
      "2      Lan  Engineering\n",
      "3    Cuong           HR\n",
      "         group         skills\n",
      "0   Accounting           math\n",
      "1   Accounting   spreadsheets\n",
      "2  Engineering         coding\n",
      "3  Engineering          linux\n",
      "4           HR    spreasheets\n",
      "5           HR  organizations\n",
      "  employee        group         skills\n",
      "0      Duc   Accounting           math\n",
      "1      Duc   Accounting   spreadsheets\n",
      "2      Mai  Engineering         coding\n",
      "3      Mai  Engineering          linux\n",
      "4      Lan  Engineering         coding\n",
      "5      Lan  Engineering          linux\n",
      "6    Cuong           HR    spreasheets\n",
      "7    Cuong           HR  organizations\n"
     ]
    }
   ],
   "source": [
    "# Many to Many Joins\n",
    "df5 = pd.DataFrame({'group':['Accounting','Accounting',\n",
    "                             'Engineering','Engineering',\n",
    "                             'HR','HR'],\n",
    "                    'skills':['math', 'spreadsheets','coding','linux',\n",
    "                              'spreasheets', 'organizations']})\n",
    "print(df1); print(df5); print(pd.merge(df1,df5))"
   ]
  },
  {
   "cell_type": "markdown",
   "id": "ecf20dfb",
   "metadata": {},
   "source": [
    "# Specification of the Merge Key"
   ]
  },
  {
   "cell_type": "code",
   "execution_count": 10,
   "id": "a8afff48",
   "metadata": {},
   "outputs": [
    {
     "name": "stdout",
     "output_type": "stream",
     "text": [
      "  employee        group\n",
      "0      Duc   Accounting\n",
      "1      Mai  Engineering\n",
      "2      Lan  Engineering\n",
      "3    Cuong           HR\n",
      "  employee  hire_date\n",
      "0      Mai       2004\n",
      "1      Lan       2008\n",
      "2      Duc       2012\n",
      "3    Cuong       2013\n",
      "  employee        group  hire_date\n",
      "0      Duc   Accounting       2012\n",
      "1      Mai  Engineering       2004\n",
      "2      Lan  Engineering       2008\n",
      "3    Cuong           HR       2013\n"
     ]
    }
   ],
   "source": [
    "print(df1); print(df2); print(pd.merge(df1, df2, on='employee'))"
   ]
  },
  {
   "cell_type": "code",
   "execution_count": 11,
   "id": "8d9b0d44",
   "metadata": {},
   "outputs": [
    {
     "name": "stdout",
     "output_type": "stream",
     "text": [
      "  employee        group\n",
      "0      Duc   Accounting\n",
      "1      Mai  Engineering\n",
      "2      Lan  Engineering\n",
      "3    Cuong           HR\n",
      "    name  salary\n",
      "0    Duc   70000\n",
      "1    Mai   80000\n",
      "2    Lan  120000\n",
      "3  Cuong  100000\n",
      "  employee        group   name  salary\n",
      "0      Duc   Accounting    Duc   70000\n",
      "1      Mai  Engineering    Mai   80000\n",
      "2      Lan  Engineering    Lan  120000\n",
      "3    Cuong           HR  Cuong  100000\n"
     ]
    }
   ],
   "source": [
    "df3 = pd.DataFrame({'name': ['Duc', 'Mai','Lan','Cuong'],\n",
    "                    'salary': [70000,80000,120000,100000]})\n",
    "print(df1); print(df3);\n",
    "print(pd.merge(df1, df3,left_on='employee', right_on='name'))"
   ]
  },
  {
   "cell_type": "code",
   "execution_count": 13,
   "id": "66856351",
   "metadata": {},
   "outputs": [
    {
     "data": {
      "text/html": [
       "<div>\n",
       "<style scoped>\n",
       "    .dataframe tbody tr th:only-of-type {\n",
       "        vertical-align: middle;\n",
       "    }\n",
       "\n",
       "    .dataframe tbody tr th {\n",
       "        vertical-align: top;\n",
       "    }\n",
       "\n",
       "    .dataframe thead th {\n",
       "        text-align: right;\n",
       "    }\n",
       "</style>\n",
       "<table border=\"1\" class=\"dataframe\">\n",
       "  <thead>\n",
       "    <tr style=\"text-align: right;\">\n",
       "      <th></th>\n",
       "      <th>employee</th>\n",
       "      <th>group</th>\n",
       "      <th>salary</th>\n",
       "    </tr>\n",
       "  </thead>\n",
       "  <tbody>\n",
       "    <tr>\n",
       "      <th>0</th>\n",
       "      <td>Duc</td>\n",
       "      <td>Accounting</td>\n",
       "      <td>70000</td>\n",
       "    </tr>\n",
       "    <tr>\n",
       "      <th>1</th>\n",
       "      <td>Mai</td>\n",
       "      <td>Engineering</td>\n",
       "      <td>80000</td>\n",
       "    </tr>\n",
       "    <tr>\n",
       "      <th>2</th>\n",
       "      <td>Lan</td>\n",
       "      <td>Engineering</td>\n",
       "      <td>120000</td>\n",
       "    </tr>\n",
       "    <tr>\n",
       "      <th>3</th>\n",
       "      <td>Cuong</td>\n",
       "      <td>HR</td>\n",
       "      <td>100000</td>\n",
       "    </tr>\n",
       "  </tbody>\n",
       "</table>\n",
       "</div>"
      ],
      "text/plain": [
       "  employee        group  salary\n",
       "0      Duc   Accounting   70000\n",
       "1      Mai  Engineering   80000\n",
       "2      Lan  Engineering  120000\n",
       "3    Cuong           HR  100000"
      ]
     },
     "execution_count": 13,
     "metadata": {},
     "output_type": "execute_result"
    }
   ],
   "source": [
    "pd.merge(df1, df3,left_on='employee', right_on='name').drop('name', axis=1)"
   ]
  },
  {
   "cell_type": "code",
   "execution_count": 14,
   "id": "5dd02a1f",
   "metadata": {},
   "outputs": [
    {
     "name": "stdout",
     "output_type": "stream",
     "text": [
      "                group\n",
      "employee             \n",
      "Duc        Accounting\n",
      "Mai       Engineering\n",
      "Lan       Engineering\n",
      "Cuong              HR\n",
      "          hire_date\n",
      "employee           \n",
      "Mai            2004\n",
      "Lan            2008\n",
      "Duc            2012\n",
      "Cuong          2013\n"
     ]
    }
   ],
   "source": [
    "df1a = df1.set_index('employee')\n",
    "df2a = df2.set_index('employee')\n",
    "print(df1a); print(df2a)"
   ]
  },
  {
   "cell_type": "code",
   "execution_count": 15,
   "id": "05f9f4f4",
   "metadata": {},
   "outputs": [
    {
     "name": "stdout",
     "output_type": "stream",
     "text": [
      "                group  hire_date\n",
      "employee                        \n",
      "Duc        Accounting       2012\n",
      "Mai       Engineering       2004\n",
      "Lan       Engineering       2008\n",
      "Cuong              HR       2013\n"
     ]
    }
   ],
   "source": [
    "print(pd.merge(df1a,df2a, left_index=True, right_index=True))"
   ]
  },
  {
   "cell_type": "code",
   "execution_count": 16,
   "id": "59d72654",
   "metadata": {},
   "outputs": [
    {
     "name": "stdout",
     "output_type": "stream",
     "text": [
      "                group\n",
      "employee             \n",
      "Duc        Accounting\n",
      "Mai       Engineering\n",
      "Lan       Engineering\n",
      "Cuong              HR\n",
      "          hire_date\n",
      "employee           \n",
      "Mai            2004\n",
      "Lan            2008\n",
      "Duc            2012\n",
      "Cuong          2013\n",
      "                group  hire_date\n",
      "employee                        \n",
      "Duc        Accounting       2012\n",
      "Mai       Engineering       2004\n",
      "Lan       Engineering       2008\n",
      "Cuong              HR       2013\n"
     ]
    }
   ],
   "source": [
    "print(df1a); print(df2a); print(df1a.join(df2a))"
   ]
  },
  {
   "cell_type": "code",
   "execution_count": 17,
   "id": "57de0e48",
   "metadata": {},
   "outputs": [
    {
     "name": "stdout",
     "output_type": "stream",
     "text": [
      "                group\n",
      "employee             \n",
      "Duc        Accounting\n",
      "Mai       Engineering\n",
      "Lan       Engineering\n",
      "Cuong              HR\n",
      "    name  salary\n",
      "0    Duc   70000\n",
      "1    Mai   80000\n",
      "2    Lan  120000\n",
      "3  Cuong  100000\n",
      "         group   name  salary\n",
      "0   Accounting    Duc   70000\n",
      "1  Engineering    Mai   80000\n",
      "2  Engineering    Lan  120000\n",
      "3           HR  Cuong  100000\n"
     ]
    }
   ],
   "source": [
    "print(df1a); print(df3)\n",
    "print(pd.merge(df1a, df3, left_index=True, right_on='name'))"
   ]
  },
  {
   "cell_type": "markdown",
   "id": "947d964d",
   "metadata": {},
   "source": [
    "# Specifying Set Arithmetic for Joins"
   ]
  },
  {
   "cell_type": "code",
   "execution_count": 20,
   "id": "a4d1e7de",
   "metadata": {},
   "outputs": [
    {
     "name": "stdout",
     "output_type": "stream",
     "text": [
      "    name   food\n",
      "0    Duc   fish\n",
      "1  Cuong  beans\n",
      "2   Hieu  bread\n",
      "   name drink\n",
      "0  Hieu  wine\n",
      "1   Huy  beer\n",
      "   name   food drink\n",
      "0  Hieu  bread  wine\n"
     ]
    }
   ],
   "source": [
    "df6 = pd.DataFrame({'name':['Duc','Cuong','Hieu'],\n",
    "                    'food': ['fish','beans','bread']},\n",
    "                  columns=['name','food'])\n",
    "df7 = pd.DataFrame({'name':['Hieu','Huy'],\n",
    "                    'drink': ['wine','beer']},\n",
    "                  columns=['name','drink'])\n",
    "print(df6); print(df7); \n",
    "print(pd.merge(df6,df7))"
   ]
  },
  {
   "cell_type": "code",
   "execution_count": 21,
   "id": "02791812",
   "metadata": {},
   "outputs": [
    {
     "data": {
      "text/html": [
       "<div>\n",
       "<style scoped>\n",
       "    .dataframe tbody tr th:only-of-type {\n",
       "        vertical-align: middle;\n",
       "    }\n",
       "\n",
       "    .dataframe tbody tr th {\n",
       "        vertical-align: top;\n",
       "    }\n",
       "\n",
       "    .dataframe thead th {\n",
       "        text-align: right;\n",
       "    }\n",
       "</style>\n",
       "<table border=\"1\" class=\"dataframe\">\n",
       "  <thead>\n",
       "    <tr style=\"text-align: right;\">\n",
       "      <th></th>\n",
       "      <th>name</th>\n",
       "      <th>food</th>\n",
       "      <th>drink</th>\n",
       "    </tr>\n",
       "  </thead>\n",
       "  <tbody>\n",
       "    <tr>\n",
       "      <th>0</th>\n",
       "      <td>Hieu</td>\n",
       "      <td>bread</td>\n",
       "      <td>wine</td>\n",
       "    </tr>\n",
       "  </tbody>\n",
       "</table>\n",
       "</div>"
      ],
      "text/plain": [
       "   name   food drink\n",
       "0  Hieu  bread  wine"
      ]
     },
     "execution_count": 21,
     "metadata": {},
     "output_type": "execute_result"
    }
   ],
   "source": [
    "pd.merge(df6, df7, how='inner')"
   ]
  },
  {
   "cell_type": "code",
   "execution_count": 22,
   "id": "ef513e40",
   "metadata": {},
   "outputs": [
    {
     "data": {
      "text/html": [
       "<div>\n",
       "<style scoped>\n",
       "    .dataframe tbody tr th:only-of-type {\n",
       "        vertical-align: middle;\n",
       "    }\n",
       "\n",
       "    .dataframe tbody tr th {\n",
       "        vertical-align: top;\n",
       "    }\n",
       "\n",
       "    .dataframe thead th {\n",
       "        text-align: right;\n",
       "    }\n",
       "</style>\n",
       "<table border=\"1\" class=\"dataframe\">\n",
       "  <thead>\n",
       "    <tr style=\"text-align: right;\">\n",
       "      <th></th>\n",
       "      <th>name</th>\n",
       "      <th>food</th>\n",
       "      <th>drink</th>\n",
       "    </tr>\n",
       "  </thead>\n",
       "  <tbody>\n",
       "    <tr>\n",
       "      <th>0</th>\n",
       "      <td>Duc</td>\n",
       "      <td>fish</td>\n",
       "      <td>NaN</td>\n",
       "    </tr>\n",
       "    <tr>\n",
       "      <th>1</th>\n",
       "      <td>Cuong</td>\n",
       "      <td>beans</td>\n",
       "      <td>NaN</td>\n",
       "    </tr>\n",
       "    <tr>\n",
       "      <th>2</th>\n",
       "      <td>Hieu</td>\n",
       "      <td>bread</td>\n",
       "      <td>wine</td>\n",
       "    </tr>\n",
       "    <tr>\n",
       "      <th>3</th>\n",
       "      <td>Huy</td>\n",
       "      <td>NaN</td>\n",
       "      <td>beer</td>\n",
       "    </tr>\n",
       "  </tbody>\n",
       "</table>\n",
       "</div>"
      ],
      "text/plain": [
       "    name   food drink\n",
       "0    Duc   fish   NaN\n",
       "1  Cuong  beans   NaN\n",
       "2   Hieu  bread  wine\n",
       "3    Huy    NaN  beer"
      ]
     },
     "execution_count": 22,
     "metadata": {},
     "output_type": "execute_result"
    }
   ],
   "source": [
    "pd.merge(df6, df7, how='outer')"
   ]
  },
  {
   "cell_type": "code",
   "execution_count": 23,
   "id": "e4fa2281",
   "metadata": {},
   "outputs": [
    {
     "data": {
      "text/html": [
       "<div>\n",
       "<style scoped>\n",
       "    .dataframe tbody tr th:only-of-type {\n",
       "        vertical-align: middle;\n",
       "    }\n",
       "\n",
       "    .dataframe tbody tr th {\n",
       "        vertical-align: top;\n",
       "    }\n",
       "\n",
       "    .dataframe thead th {\n",
       "        text-align: right;\n",
       "    }\n",
       "</style>\n",
       "<table border=\"1\" class=\"dataframe\">\n",
       "  <thead>\n",
       "    <tr style=\"text-align: right;\">\n",
       "      <th></th>\n",
       "      <th>name</th>\n",
       "      <th>food</th>\n",
       "      <th>drink</th>\n",
       "    </tr>\n",
       "  </thead>\n",
       "  <tbody>\n",
       "    <tr>\n",
       "      <th>0</th>\n",
       "      <td>Duc</td>\n",
       "      <td>fish</td>\n",
       "      <td>NaN</td>\n",
       "    </tr>\n",
       "    <tr>\n",
       "      <th>1</th>\n",
       "      <td>Cuong</td>\n",
       "      <td>beans</td>\n",
       "      <td>NaN</td>\n",
       "    </tr>\n",
       "    <tr>\n",
       "      <th>2</th>\n",
       "      <td>Hieu</td>\n",
       "      <td>bread</td>\n",
       "      <td>wine</td>\n",
       "    </tr>\n",
       "  </tbody>\n",
       "</table>\n",
       "</div>"
      ],
      "text/plain": [
       "    name   food drink\n",
       "0    Duc   fish   NaN\n",
       "1  Cuong  beans   NaN\n",
       "2   Hieu  bread  wine"
      ]
     },
     "execution_count": 23,
     "metadata": {},
     "output_type": "execute_result"
    }
   ],
   "source": [
    "pd.merge(df6, df7, how='left')"
   ]
  },
  {
   "cell_type": "markdown",
   "id": "4ef0582b",
   "metadata": {},
   "source": [
    "# Overlapping Column Names"
   ]
  },
  {
   "cell_type": "code",
   "execution_count": 24,
   "id": "9133cc37",
   "metadata": {},
   "outputs": [
    {
     "name": "stdout",
     "output_type": "stream",
     "text": [
      "    name  rank\n",
      "0    Duc     1\n",
      "1  Cuong     2\n",
      "2   Hieu     3\n",
      "3   Manh     4\n",
      "    name  rank\n",
      "0    Duc     1\n",
      "1  Cuong     2\n",
      "2   Hieu     3\n",
      "3   Manh     4\n",
      "    name  rank_x  rank_y\n",
      "0    Duc       1       1\n",
      "1  Cuong       2       3\n",
      "2   Hieu       3       2\n",
      "3   Manh       4       4\n"
     ]
    }
   ],
   "source": [
    "df1 = pd.DataFrame({'name':['Duc','Cuong','Hieu','Manh'],\n",
    "                    'rank': [1,2,3,4]})\n",
    "df2 = pd.DataFrame({'name':['Duc','Cuong','Hieu','Manh'],\n",
    "                    'rank': [1,3,2,4]})\n",
    "print(df1); print(df1);\n",
    "print(pd.merge(df1,df2, on = 'name'))"
   ]
  },
  {
   "cell_type": "code",
   "execution_count": 25,
   "id": "b41010d8",
   "metadata": {},
   "outputs": [
    {
     "name": "stdout",
     "output_type": "stream",
     "text": [
      "    name  rank_M  rank_N\n",
      "0    Duc       1       1\n",
      "1  Cuong       2       3\n",
      "2   Hieu       3       2\n",
      "3   Manh       4       4\n"
     ]
    }
   ],
   "source": [
    "print(pd.merge(df1,df2, on='name', suffixes=[\"_M\",\"_N\"]))"
   ]
  }
 ],
 "metadata": {
  "kernelspec": {
   "display_name": "Python 3 (ipykernel)",
   "language": "python",
   "name": "python3"
  },
  "language_info": {
   "codemirror_mode": {
    "name": "ipython",
    "version": 3
   },
   "file_extension": ".py",
   "mimetype": "text/x-python",
   "name": "python",
   "nbconvert_exporter": "python",
   "pygments_lexer": "ipython3",
   "version": "3.9.7"
  }
 },
 "nbformat": 4,
 "nbformat_minor": 5
}
