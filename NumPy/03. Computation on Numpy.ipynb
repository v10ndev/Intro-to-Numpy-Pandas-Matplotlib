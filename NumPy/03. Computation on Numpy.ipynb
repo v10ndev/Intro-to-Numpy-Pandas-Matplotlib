{
 "cells": [
  {
   "cell_type": "markdown",
   "id": "596e0477",
   "metadata": {},
   "source": [
    "# The Slowness of Loop"
   ]
  },
  {
   "cell_type": "code",
   "execution_count": 1,
   "id": "8b51c661",
   "metadata": {},
   "outputs": [],
   "source": [
    "import numpy as np\n",
    "np.random.seed(8)"
   ]
  },
  {
   "cell_type": "code",
   "execution_count": 3,
   "id": "d4a6f1ca",
   "metadata": {},
   "outputs": [
    {
     "data": {
      "text/plain": [
       "array([0.25      , 0.11111111, 1.        , 0.16666667, 0.5       ])"
      ]
     },
     "execution_count": 3,
     "metadata": {},
     "output_type": "execute_result"
    }
   ],
   "source": [
    "def compute_reciprocals(val):\n",
    "    output = np.empty(len(val))\n",
    "    for i in range(len(val)):\n",
    "        output[i] = 1.0/val[i]\n",
    "    return output\n",
    "\n",
    "values = np.random.randint(1,10,size=5)\n",
    "compute_reciprocals(values)"
   ]
  },
  {
   "cell_type": "code",
   "execution_count": 4,
   "id": "c11c8323",
   "metadata": {},
   "outputs": [
    {
     "name": "stdout",
     "output_type": "stream",
     "text": [
      "182 ms ± 4.43 ms per loop (mean ± std. dev. of 7 runs, 10 loops each)\n"
     ]
    }
   ],
   "source": [
    "big_array = np.random.randint(1, 100, size=100000)\n",
    "%timeit compute_reciprocals(big_array)"
   ]
  },
  {
   "cell_type": "code",
   "execution_count": 5,
   "id": "1cfac048",
   "metadata": {},
   "outputs": [
    {
     "name": "stdout",
     "output_type": "stream",
     "text": [
      "[0.25       0.11111111 1.         0.16666667 0.5       ]\n",
      "[0.25       0.11111111 1.         0.16666667 0.5       ]\n"
     ]
    }
   ],
   "source": [
    "print(compute_reciprocals(values))\n",
    "print(1.0/values)"
   ]
  },
  {
   "cell_type": "code",
   "execution_count": 6,
   "id": "b2031be1",
   "metadata": {},
   "outputs": [
    {
     "name": "stdout",
     "output_type": "stream",
     "text": [
      "134 µs ± 3.6 µs per loop (mean ± std. dev. of 7 runs, 10000 loops each)\n"
     ]
    }
   ],
   "source": [
    "%timeit (1.0/big_array)"
   ]
  },
  {
   "cell_type": "markdown",
   "id": "4cb1e6f5",
   "metadata": {},
   "source": [
    "# Introducing UFuncs"
   ]
  },
  {
   "cell_type": "code",
   "execution_count": 7,
   "id": "1d1ec612",
   "metadata": {},
   "outputs": [
    {
     "data": {
      "text/plain": [
       "array([0.        , 0.5       , 0.66666667, 0.75      , 0.8       ])"
      ]
     },
     "execution_count": 7,
     "metadata": {},
     "output_type": "execute_result"
    }
   ],
   "source": [
    "#Operate between two arrays:\n",
    "np.arange(5) / np.arange(1,6)"
   ]
  },
  {
   "cell_type": "code",
   "execution_count": 8,
   "id": "01d70840",
   "metadata": {},
   "outputs": [
    {
     "data": {
      "text/plain": [
       "array([[  1,   2,   4],\n",
       "       [  8,  16,  32],\n",
       "       [ 64, 128, 256]], dtype=int32)"
      ]
     },
     "execution_count": 8,
     "metadata": {},
     "output_type": "execute_result"
    }
   ],
   "source": [
    "x = np.arange(9).reshape((3,3))\n",
    "2**x"
   ]
  },
  {
   "cell_type": "code",
   "execution_count": 9,
   "id": "55602e09",
   "metadata": {},
   "outputs": [],
   "source": [
    "x = np.arange(5)"
   ]
  },
  {
   "cell_type": "code",
   "execution_count": 10,
   "id": "dd52619f",
   "metadata": {},
   "outputs": [
    {
     "name": "stdout",
     "output_type": "stream",
     "text": [
      "x =  [0 1 2 3 4]\n",
      "x+5 =  [5 6 7 8 9]\n",
      "x-5 =  [-5 -4 -3 -2 -1]\n",
      "x*2 =  [0 2 4 6 8]\n",
      "x/2 =  [0.  0.5 1.  1.5 2. ]\n",
      "x//2=  [0 0 1 1 2]\n"
     ]
    }
   ],
   "source": [
    "print('x = ',x)\n",
    "print('x+5 = ',x+5)\n",
    "print('x-5 = ',x-5)\n",
    "print('x*2 = ',x*2)\n",
    "print('x/2 = ',x/2)\n",
    "print('x//2= ',x//2)"
   ]
  },
  {
   "cell_type": "code",
   "execution_count": 11,
   "id": "0e366e93",
   "metadata": {},
   "outputs": [
    {
     "name": "stdout",
     "output_type": "stream",
     "text": [
      "-x =  [ 0 -1 -2 -3 -4]\n",
      "x**2 =  [ 0  1  4  9 16]\n",
      "x%2 =  [0 1 0 1 0]\n"
     ]
    }
   ],
   "source": [
    "print('-x = ',-x)\n",
    "print('x**2 = ',x**2)\n",
    "print('x%2 = ',x%2)"
   ]
  },
  {
   "cell_type": "code",
   "execution_count": 13,
   "id": "f1e0841e",
   "metadata": {},
   "outputs": [
    {
     "data": {
      "text/plain": [
       "array([-1.  , -2.25, -4.  , -6.25, -9.  ])"
      ]
     },
     "execution_count": 13,
     "metadata": {},
     "output_type": "execute_result"
    }
   ],
   "source": [
    "-(0.5*x + 1)**2"
   ]
  },
  {
   "cell_type": "code",
   "execution_count": 14,
   "id": "d9c32b86",
   "metadata": {},
   "outputs": [
    {
     "data": {
      "text/plain": [
       "array([0, 1, 2, 3, 4])"
      ]
     },
     "execution_count": 14,
     "metadata": {},
     "output_type": "execute_result"
    }
   ],
   "source": [
    "x"
   ]
  },
  {
   "cell_type": "markdown",
   "id": "7f4e18d4",
   "metadata": {},
   "source": [
    "- np.add    + \n",
    "- np.subtract    - \n",
    "- np.negative    - \n",
    "- np.multiply    * \n",
    "- np.divide    / \n",
    "- np.floor_divide    //\n",
    "- np.power    **\n",
    "- np.mod    % "
   ]
  },
  {
   "cell_type": "code",
   "execution_count": 15,
   "id": "87eaeebc",
   "metadata": {},
   "outputs": [
    {
     "data": {
      "text/plain": [
       "array([3, 4, 5, 6, 7])"
      ]
     },
     "execution_count": 15,
     "metadata": {},
     "output_type": "execute_result"
    }
   ],
   "source": [
    "np.add(x,3)"
   ]
  },
  {
   "cell_type": "code",
   "execution_count": 17,
   "id": "b0fe1473",
   "metadata": {},
   "outputs": [],
   "source": [
    "x = np.array([-2,-3,1,2,3])"
   ]
  },
  {
   "cell_type": "code",
   "execution_count": 18,
   "id": "6cab2e43",
   "metadata": {},
   "outputs": [
    {
     "data": {
      "text/plain": [
       "array([2, 3, 1, 2, 3])"
      ]
     },
     "execution_count": 18,
     "metadata": {},
     "output_type": "execute_result"
    }
   ],
   "source": [
    "abs(x)"
   ]
  },
  {
   "cell_type": "code",
   "execution_count": 19,
   "id": "af9dc466",
   "metadata": {},
   "outputs": [
    {
     "data": {
      "text/plain": [
       "array([2, 3, 1, 2, 3])"
      ]
     },
     "execution_count": 19,
     "metadata": {},
     "output_type": "execute_result"
    }
   ],
   "source": [
    "np.absolute(x)"
   ]
  },
  {
   "cell_type": "code",
   "execution_count": 20,
   "id": "d901a773",
   "metadata": {},
   "outputs": [
    {
     "data": {
      "text/plain": [
       "array([2, 3, 1, 2, 3])"
      ]
     },
     "execution_count": 20,
     "metadata": {},
     "output_type": "execute_result"
    }
   ],
   "source": [
    "np.abs(x)"
   ]
  },
  {
   "cell_type": "code",
   "execution_count": 21,
   "id": "9d5be706",
   "metadata": {},
   "outputs": [],
   "source": [
    "x = np.array([3 - 4j, 4 - 3j, 2 + 0j, 0 + 1j])"
   ]
  },
  {
   "cell_type": "code",
   "execution_count": 22,
   "id": "0b1fe199",
   "metadata": {},
   "outputs": [
    {
     "data": {
      "text/plain": [
       "array([5., 5., 2., 1.])"
      ]
     },
     "execution_count": 22,
     "metadata": {},
     "output_type": "execute_result"
    }
   ],
   "source": [
    "np.abs(x)"
   ]
  },
  {
   "cell_type": "code",
   "execution_count": 23,
   "id": "0e7311a8",
   "metadata": {},
   "outputs": [],
   "source": [
    "theta = np.linspace(0, np.pi, 3)"
   ]
  },
  {
   "cell_type": "code",
   "execution_count": 24,
   "id": "ab08ba5b",
   "metadata": {},
   "outputs": [
    {
     "name": "stdout",
     "output_type": "stream",
     "text": [
      "theta:  [0.         1.57079633 3.14159265]\n",
      "sin(theta):  [0.0000000e+00 1.0000000e+00 1.2246468e-16]\n",
      "cos(theta):  [ 1.000000e+00  6.123234e-17 -1.000000e+00]\n",
      "tan(theta):  [ 0.00000000e+00  1.63312394e+16 -1.22464680e-16]\n"
     ]
    }
   ],
   "source": [
    "print('theta: ',theta)\n",
    "print('sin(theta): ', np.sin(theta))\n",
    "print('cos(theta): ', np.cos(theta))\n",
    "print('tan(theta): ', np.tan(theta))"
   ]
  },
  {
   "cell_type": "code",
   "execution_count": 25,
   "id": "384c3b1e",
   "metadata": {},
   "outputs": [
    {
     "name": "stdout",
     "output_type": "stream",
     "text": [
      "x:  [-1, 0, 1]\n",
      "arcsin(x):  [-1.57079633  0.          1.57079633]\n",
      "arccos(x):  [3.14159265 1.57079633 0.        ]\n",
      "arctan(x):  [-0.78539816  0.          0.78539816]\n"
     ]
    }
   ],
   "source": [
    "x = [-1,0,1]\n",
    "print('x: ',x)\n",
    "print('arcsin(x): ',np.arcsin(x))\n",
    "print('arccos(x): ',np.arccos(x))\n",
    "print('arctan(x): ',np.arctan(x))"
   ]
  },
  {
   "cell_type": "code",
   "execution_count": 26,
   "id": "defc558d",
   "metadata": {},
   "outputs": [
    {
     "name": "stdout",
     "output_type": "stream",
     "text": [
      "x:  [1, 2, 3]\n",
      "e^x:  [ 2.71828183  7.3890561  20.08553692]\n",
      "2^x:  [2. 4. 8.]\n",
      "3^x:  [ 3  9 27]\n"
     ]
    }
   ],
   "source": [
    "x = [1,2,3]\n",
    "print('x: ',x)\n",
    "print('e^x: ',np.exp(x))\n",
    "print('2^x: ', np.exp2(x))\n",
    "print('3^x: ', np.power(3,x))"
   ]
  },
  {
   "cell_type": "code",
   "execution_count": 27,
   "id": "0a6ad525",
   "metadata": {},
   "outputs": [
    {
     "name": "stdout",
     "output_type": "stream",
     "text": [
      "x:  [1, 8, 16, 100]\n",
      "ln(x):  [0.         2.07944154 2.77258872 4.60517019]\n",
      "log2(x):  [0.         3.         4.         6.64385619]\n",
      "log10(x):  [0.         0.90308999 1.20411998 2.        ]\n"
     ]
    }
   ],
   "source": [
    "x = [1, 8, 16, 100]\n",
    "print('x: ',x)\n",
    "print('ln(x): ', np.log(x))\n",
    "print('log2(x): ', np.log2(x))\n",
    "print('log10(x): ', np.log10(x))"
   ]
  },
  {
   "cell_type": "code",
   "execution_count": 28,
   "id": "129656da",
   "metadata": {},
   "outputs": [
    {
     "name": "stdout",
     "output_type": "stream",
     "text": [
      "exp(x) - 1:  [0.         0.0010005  0.01005017 0.10517092]\n",
      "log(1+x):  [0.         0.0009995  0.00995033 0.09531018]\n"
     ]
    }
   ],
   "source": [
    "#precision with very small input\n",
    "x = [0, 0.001, 0.01, 0.1]\n",
    "print('exp(x) - 1: ', np.expm1(x))\n",
    "print('log(1+x): ', np.log1p(x))"
   ]
  }
 ],
 "metadata": {
  "kernelspec": {
   "display_name": "Python 3 (ipykernel)",
   "language": "python",
   "name": "python3"
  },
  "language_info": {
   "codemirror_mode": {
    "name": "ipython",
    "version": 3
   },
   "file_extension": ".py",
   "mimetype": "text/x-python",
   "name": "python",
   "nbconvert_exporter": "python",
   "pygments_lexer": "ipython3",
   "version": "3.9.7"
  }
 },
 "nbformat": 4,
 "nbformat_minor": 5
}
