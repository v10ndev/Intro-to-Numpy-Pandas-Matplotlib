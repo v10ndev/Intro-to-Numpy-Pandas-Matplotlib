{
 "cells": [
  {
   "cell_type": "markdown",
   "id": "9a46a7d5",
   "metadata": {},
   "source": [
    "# Summing the values in an Array"
   ]
  },
  {
   "cell_type": "code",
   "execution_count": 1,
   "id": "44c36d1f",
   "metadata": {},
   "outputs": [],
   "source": [
    "import numpy as np"
   ]
  },
  {
   "cell_type": "code",
   "execution_count": 2,
   "id": "0cf83b5c",
   "metadata": {},
   "outputs": [
    {
     "data": {
      "text/plain": [
       "53.625292751830855"
      ]
     },
     "execution_count": 2,
     "metadata": {},
     "output_type": "execute_result"
    }
   ],
   "source": [
    "lst = np.random.random(100)\n",
    "sum(lst)"
   ]
  },
  {
   "cell_type": "code",
   "execution_count": 3,
   "id": "69c2b5db",
   "metadata": {},
   "outputs": [
    {
     "data": {
      "text/plain": [
       "53.62529275183084"
      ]
     },
     "execution_count": 3,
     "metadata": {},
     "output_type": "execute_result"
    }
   ],
   "source": [
    "np.sum(lst)"
   ]
  },
  {
   "cell_type": "code",
   "execution_count": 4,
   "id": "d4d50637",
   "metadata": {},
   "outputs": [
    {
     "name": "stdout",
     "output_type": "stream",
     "text": [
      "187 ms ± 2.15 ms per loop (mean ± std. dev. of 7 runs, 10 loops each)\n",
      "1.44 ms ± 44.2 µs per loop (mean ± std. dev. of 7 runs, 1000 loops each)\n"
     ]
    }
   ],
   "source": [
    "big_array = np.random.random(1000000)\n",
    "%timeit sum(big_array)\n",
    "%timeit np.sum(big_array)"
   ]
  },
  {
   "cell_type": "code",
   "execution_count": 5,
   "id": "ced7e511",
   "metadata": {},
   "outputs": [
    {
     "data": {
      "text/plain": [
       "(2.088313606596337e-06, 0.9999988447222616)"
      ]
     },
     "execution_count": 5,
     "metadata": {},
     "output_type": "execute_result"
    }
   ],
   "source": [
    "min(big_array), max(big_array)"
   ]
  },
  {
   "cell_type": "code",
   "execution_count": 6,
   "id": "a23cb683",
   "metadata": {},
   "outputs": [
    {
     "name": "stdout",
     "output_type": "stream",
     "text": [
      "125 ms ± 2.73 ms per loop (mean ± std. dev. of 7 runs, 10 loops each)\n",
      "822 µs ± 13 µs per loop (mean ± std. dev. of 7 runs, 1000 loops each)\n"
     ]
    }
   ],
   "source": [
    "%timeit min(big_array)\n",
    "%timeit np.min(big_array)"
   ]
  },
  {
   "cell_type": "code",
   "execution_count": 7,
   "id": "3460821e",
   "metadata": {},
   "outputs": [
    {
     "name": "stdout",
     "output_type": "stream",
     "text": [
      "2.088313606596337e-06 0.9999988447222616 500108.0801763925\n"
     ]
    }
   ],
   "source": [
    "print(big_array.min(), big_array.max(), big_array.sum())"
   ]
  },
  {
   "cell_type": "code",
   "execution_count": 8,
   "id": "7ad39669",
   "metadata": {},
   "outputs": [
    {
     "name": "stdout",
     "output_type": "stream",
     "text": [
      "[[0.84641264 0.35425265 0.91144604 0.51771023]\n",
      " [0.14504197 0.98178157 0.62777693 0.55070649]\n",
      " [0.73069424 0.3808205  0.25405406 0.29215425]]\n"
     ]
    }
   ],
   "source": [
    "matrix = np.random.random((3,4))\n",
    "print(matrix)"
   ]
  },
  {
   "cell_type": "code",
   "execution_count": 9,
   "id": "2c6a4e03",
   "metadata": {},
   "outputs": [
    {
     "data": {
      "text/plain": [
       "6.592851581517328"
      ]
     },
     "execution_count": 9,
     "metadata": {},
     "output_type": "execute_result"
    }
   ],
   "source": [
    "matrix.sum()"
   ]
  },
  {
   "cell_type": "code",
   "execution_count": 10,
   "id": "2d02158a",
   "metadata": {},
   "outputs": [
    {
     "data": {
      "text/plain": [
       "array([0.14504197, 0.35425265, 0.25405406, 0.29215425])"
      ]
     },
     "execution_count": 10,
     "metadata": {},
     "output_type": "execute_result"
    }
   ],
   "source": [
    "matrix.min(axis=0)"
   ]
  },
  {
   "cell_type": "code",
   "execution_count": 12,
   "id": "4ec3d398",
   "metadata": {},
   "outputs": [
    {
     "data": {
      "text/plain": [
       "array([0.91144604, 0.98178157, 0.73069424])"
      ]
     },
     "execution_count": 12,
     "metadata": {},
     "output_type": "execute_result"
    }
   ],
   "source": [
    "matrix.max(axis=1)"
   ]
  },
  {
   "cell_type": "code",
   "execution_count": 13,
   "id": "53a0150e",
   "metadata": {},
   "outputs": [
    {
     "data": {
      "text/plain": [
       "0.00014386045228633658"
      ]
     },
     "execution_count": 13,
     "metadata": {},
     "output_type": "execute_result"
    }
   ],
   "source": [
    "np.prod(matrix)"
   ]
  },
  {
   "cell_type": "code",
   "execution_count": 14,
   "id": "ad2216c7",
   "metadata": {},
   "outputs": [
    {
     "data": {
      "text/plain": [
       "0.5494042984597773"
      ]
     },
     "execution_count": 14,
     "metadata": {},
     "output_type": "execute_result"
    }
   ],
   "source": [
    "np.mean(matrix)"
   ]
  },
  {
   "cell_type": "code",
   "execution_count": 15,
   "id": "3ff9efdb",
   "metadata": {},
   "outputs": [
    {
     "data": {
      "text/plain": [
       "0.26294418260399455"
      ]
     },
     "execution_count": 15,
     "metadata": {},
     "output_type": "execute_result"
    }
   ],
   "source": [
    "np.std(matrix)"
   ]
  },
  {
   "cell_type": "code",
   "execution_count": 16,
   "id": "60206f4f",
   "metadata": {},
   "outputs": [
    {
     "data": {
      "text/plain": [
       "0.06913964316528283"
      ]
     },
     "execution_count": 16,
     "metadata": {},
     "output_type": "execute_result"
    }
   ],
   "source": [
    "np.var(matrix)"
   ]
  },
  {
   "cell_type": "code",
   "execution_count": 17,
   "id": "6cb6107a",
   "metadata": {},
   "outputs": [
    {
     "data": {
      "text/plain": [
       "4"
      ]
     },
     "execution_count": 17,
     "metadata": {},
     "output_type": "execute_result"
    }
   ],
   "source": [
    "np.argmin(matrix)"
   ]
  },
  {
   "cell_type": "code",
   "execution_count": 18,
   "id": "03d5d4e6",
   "metadata": {},
   "outputs": [
    {
     "data": {
      "text/plain": [
       "True"
      ]
     },
     "execution_count": 18,
     "metadata": {},
     "output_type": "execute_result"
    }
   ],
   "source": [
    "np.any(matrix)"
   ]
  },
  {
   "cell_type": "code",
   "execution_count": 19,
   "id": "90c0b5e0",
   "metadata": {},
   "outputs": [
    {
     "data": {
      "text/plain": [
       "True"
      ]
     },
     "execution_count": 19,
     "metadata": {},
     "output_type": "execute_result"
    }
   ],
   "source": [
    "np.all(matrix)"
   ]
  }
 ],
 "metadata": {
  "kernelspec": {
   "display_name": "Python 3 (ipykernel)",
   "language": "python",
   "name": "python3"
  },
  "language_info": {
   "codemirror_mode": {
    "name": "ipython",
    "version": 3
   },
   "file_extension": ".py",
   "mimetype": "text/x-python",
   "name": "python",
   "nbconvert_exporter": "python",
   "pygments_lexer": "ipython3",
   "version": "3.9.7"
  }
 },
 "nbformat": 4,
 "nbformat_minor": 5
}
